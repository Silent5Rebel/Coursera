{
 "cells": [
  {
   "cell_type": "code",
   "execution_count": 15,
   "metadata": {},
   "outputs": [
    {
     "name": "stdout",
     "output_type": "stream",
     "text": [
      "340.855101179\n",
      "2220.25530354 175.124696462 340.855101179\n"
     ]
    }
   ],
   "source": [
    "import math\n",
    "ave_x = 1197.69 #за 30 лет\n",
    "disp = math.sqrt(116182.2)\n",
    "print disp\n",
    "cu = ave_x + 3*disp\n",
    "cl = ave_x - 3*disp\n",
    "print cu, cl, disp\n"
   ]
  },
  {
   "cell_type": "code",
   "execution_count": 14,
   "metadata": {},
   "outputs": [
    {
     "name": "stdout",
     "output_type": "stream",
     "text": [
      "346.682106199\n"
     ]
    }
   ],
   "source": [
    "disp_x = math.sqrt(30./29*116182.2)\n",
    "print disp_x"
   ]
  },
  {
   "cell_type": "code",
   "execution_count": 13,
   "metadata": {},
   "outputs": [
    {
     "name": "stdout",
     "output_type": "stream",
     "text": [
      "2237.7363186\n"
     ]
    }
   ],
   "source": [
    "res = ave_x +3*math.sqrt(disp_x)\n",
    "print res"
   ]
  },
  {
   "cell_type": "code",
   "execution_count": null,
   "metadata": {},
   "outputs": [],
   "source": []
  }
 ],
 "metadata": {
  "kernelspec": {
   "display_name": "Python 2",
   "language": "python",
   "name": "python2"
  },
  "language_info": {
   "codemirror_mode": {
    "name": "ipython",
    "version": 2
   },
   "file_extension": ".py",
   "mimetype": "text/x-python",
   "name": "python",
   "nbconvert_exporter": "python",
   "pygments_lexer": "ipython2",
   "version": "2.7.14"
  }
 },
 "nbformat": 4,
 "nbformat_minor": 2
}
