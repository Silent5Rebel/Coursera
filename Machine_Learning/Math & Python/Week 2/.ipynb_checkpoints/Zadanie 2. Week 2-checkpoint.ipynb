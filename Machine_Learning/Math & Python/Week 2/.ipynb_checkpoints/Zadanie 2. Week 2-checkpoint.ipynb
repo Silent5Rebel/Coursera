{
 "cells": [
  {
   "cell_type": "code",
   "execution_count": 89,
   "metadata": {},
   "outputs": [],
   "source": [
    "import scipy as sp\n",
    "import numpy as np\n",
    "from scipy import linalg\n",
    "import matplotlib.pyplot as plt\n",
    "%matplotlib inline"
   ]
  },
  {
   "cell_type": "code",
   "execution_count": 91,
   "metadata": {},
   "outputs": [
    {
     "name": "stdout",
     "output_type": "stream",
     "text": [
      "3.252216865271419 0.6352214195786656\n"
     ]
    }
   ],
   "source": [
    "x = np.array([1, 4, 10, 15], float)\n",
    "def f(x):\n",
    "    return np.sin(x / 5.0) * np.exp(x / 10) + 5.0 * np.exp(-x / 2.0)\n",
    "print f(1.0), f(15.0)"
   ]
  },
  {
   "cell_type": "code",
   "execution_count": 92,
   "metadata": {},
   "outputs": [
    {
     "name": "stdout",
     "output_type": "stream",
     "text": [
      "[[1.000e+00 1.000e+00 1.000e+00 1.000e+00]\n",
      " [1.000e+00 4.000e+00 1.600e+01 6.400e+01]\n",
      " [1.000e+00 1.000e+01 1.000e+02 1.000e+03]\n",
      " [1.000e+00 1.500e+01 2.250e+02 3.375e+03]]\n"
     ]
    },
    {
     "data": {
      "text/plain": [
       "array([ 4.36264154, -1.29552587,  0.19333685, -0.00823565])"
      ]
     },
     "execution_count": 92,
     "metadata": {},
     "output_type": "execute_result"
    }
   ],
   "source": [
    "x1 = np.array([[1,1,1,1], [1, 4, 16, 64], [1, 10, 100, 1000], [1, 15, 225, 3375]], float)\n",
    "print x1.round(2)\n",
    "sp.linalg.solve(x1, f(x))\n"
   ]
  },
  {
   "cell_type": "code",
   "execution_count": 77,
   "metadata": {},
   "outputs": [
    {
     "data": {
      "image/png": "[encoded data removed]",
      "text/plain": [
       "<matplotlib.figure.Figure at 0xa701780>"
      ]
     },
     "metadata": {},
     "output_type": "display_data"
    }
   ],
   "source": [
    "plt.plot(x, f(x)) #Построение графика\n",
    "plt.xlabel(r'$x$') #Метка по оси x в формате TeX\n",
    "plt.ylabel(r'$f(x)$') #Метка по оси y в формате TeX\n",
    "plt.grid(True) #Сетка\n",
    "plt.show() #Показать график"
   ]
  },
  {
   "cell_type": "code",
   "execution_count": 78,
   "metadata": {},
   "outputs": [
    {
     "name": "stdout",
     "output_type": "stream",
     "text": [
      "Object `lambda` not found.\n"
     ]
    }
   ],
   "source": [
    "? lambda"
   ]
  },
  {
   "cell_type": "code",
   "execution_count": null,
   "metadata": {},
   "outputs": [],
   "source": []
  },
  {
   "cell_type": "code",
   "execution_count": 8,
   "metadata": {},
   "outputs": [
    {
     "data": {
      "image/png": "[encoded data removed]",
      "text/plain": [
       "<matplotlib.figure.Figure at 0x6077470>"
      ]
     },
     "metadata": {},
     "output_type": "display_data"
    }
   ],
   "source": [
    "import matplotlib.pyplot as plt\n",
    "%matplotlib inline\n",
    "c = [1., -2., 3., -4., 5.]\n",
    "\n",
    "def f(x, c):\n",
    "    return c[0]+c[1]*x+c[2]*x**2+c[3]*x**3+c[4]*x**4\n",
    "\n",
    "x=np.arange(0,5.01,0.1) #Массив значений аргумента\n",
    "plt.plot(x, f(x, c)) #Построение графика\n",
    "plt.xlabel(r'$x$') #Метка по оси x в формате TeX\n",
    "plt.ylabel(r'$f(x)$') #Метка по оси y в формате TeX\n",
    "plt.grid(True) #Сетка\n",
    "plt.show() #Показать график"
   ]
  },
  {
   "cell_type": "code",
   "execution_count": 93,
   "metadata": {},
   "outputs": [
    {
     "name": "stdout",
     "output_type": "stream",
     "text": [
      "[3.252216865271419, 0.6352214195786656]\n",
      "[ 4.36264154 -1.29552587  0.19333685 -0.00823565]\n"
     ]
    },
    {
     "data": {
      "text/plain": [
       "[4.36, -1.3, 0.19, -0.01]"
      ]
     },
     "execution_count": 93,
     "metadata": {},
     "output_type": "execute_result"
    }
   ],
   "source": [
    "import scipy.linalg\n",
    "from numpy import sin, exp\n",
    "\n",
    "f_x = lambda x: sin(x / 5.0) * exp(x / 10.0) + 5 * exp(-x / 2.0)\n",
    "polynom_rank = 1\n",
    "A_1 = [\n",
    "    [1 ** n for n in range(0, polynom_rank + 1)],\n",
    "    [15 ** n for n in range(0, polynom_rank + 1)]\n",
    "]\n",
    "\n",
    "b_1 = [f_x(1), f_x(15)]\n",
    "print b_1\n",
    "scipy.linalg.solve(A_1, b_1)\n",
    "\n",
    "polynom_rank = 2\n",
    "A_2 = [\n",
    "    [1 ** n for n in range(0, polynom_rank + 1)],\n",
    "    [8 ** n for n in range(0, polynom_rank + 1)],\n",
    "    [15 ** n for n in range(0, polynom_rank + 1)]\n",
    "]\n",
    "b_2 = [f_x(1), f_x(8), f_x(15)]\n",
    "\n",
    "scipy.linalg.solve(A_2, b_2)\n",
    "\n",
    "polynom_rank = 3\n",
    "A_3 = [\n",
    "    [1 ** n for n in range(0, polynom_rank + 1)],\n",
    "    [4 ** n for n in range(0, polynom_rank + 1)],\n",
    "    [10 ** n for n in range(0, polynom_rank + 1)],\n",
    "    [15 ** n for n in range(0, polynom_rank + 1)]\n",
    "]\n",
    "b_3 = [f_x(1), f_x(4), f_x(10), f_x(15)]\n",
    "\n",
    "answer = scipy.linalg.solve(A_3, b_3)\n",
    "print answer\n",
    "\n",
    "map(lambda x: x.round(2), answer)"
   ]
  },
  {
   "cell_type": "code",
   "execution_count": 88,
   "metadata": {},
   "outputs": [],
   "source": [
    "? map"
   ]
  },
  {
   "cell_type": "code",
   "execution_count": null,
   "metadata": {},
   "outputs": [],
   "source": []
  }
 ],
 "metadata": {
  "kernelspec": {
   "display_name": "Python 2",
   "language": "python",
   "name": "python2"
  },
  "language_info": {
   "codemirror_mode": {
    "name": "ipython",
    "version": 2
   },
   "file_extension": ".py",
   "mimetype": "text/x-python",
   "name": "python",
   "nbconvert_exporter": "python",
   "pygments_lexer": "ipython2",
   "version": "2.7.14"
  }
 },
 "nbformat": 4,
 "nbformat_minor": 2
}
